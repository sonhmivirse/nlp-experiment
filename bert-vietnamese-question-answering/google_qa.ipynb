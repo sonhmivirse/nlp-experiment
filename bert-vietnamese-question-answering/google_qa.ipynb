{
 "cells": [
  {
   "cell_type": "code",
   "execution_count": 1,
   "metadata": {},
   "outputs": [
    {
     "ename": "FileNotFoundError",
     "evalue": "[Errno 2] No such file or directory: 'resources/bigram.txt'",
     "output_type": "error",
     "traceback": [
      "\u001b[0;31m---------------------------------------------------------------------------\u001b[0m",
      "\u001b[0;31mFileNotFoundError\u001b[0m                         Traceback (most recent call last)",
      "\u001b[1;32m/media/ivirse/Data1/Project_ISOFH/chatbotdocs/bert-vietnamese-question-answering/google_qa.ipynb Cell 1\u001b[0m line \u001b[0;36m3\n\u001b[1;32m      <a href='vscode-notebook-cell:/media/ivirse/Data1/Project_ISOFH/chatbotdocs/bert-vietnamese-question-answering/google_qa.ipynb#W0sZmlsZQ%3D%3D?line=0'>1</a>\u001b[0m \u001b[39mfrom\u001b[39;00m \u001b[39mgg_search\u001b[39;00m \u001b[39mimport\u001b[39;00m GoogleSearch\n\u001b[1;32m      <a href='vscode-notebook-cell:/media/ivirse/Data1/Project_ISOFH/chatbotdocs/bert-vietnamese-question-answering/google_qa.ipynb#W0sZmlsZQ%3D%3D?line=1'>2</a>\u001b[0m ggsearch \u001b[39m=\u001b[39m GoogleSearch()\n\u001b[0;32m----> <a href='vscode-notebook-cell:/media/ivirse/Data1/Project_ISOFH/chatbotdocs/bert-vietnamese-question-answering/google_qa.ipynb#W0sZmlsZQ%3D%3D?line=2'>3</a>\u001b[0m \u001b[39mfrom\u001b[39;00m \u001b[39mrelevance_ranking\u001b[39;00m \u001b[39mimport\u001b[39;00m rel_ranking\n\u001b[1;32m      <a href='vscode-notebook-cell:/media/ivirse/Data1/Project_ISOFH/chatbotdocs/bert-vietnamese-question-answering/google_qa.ipynb#W0sZmlsZQ%3D%3D?line=3'>4</a>\u001b[0m \u001b[39mfrom\u001b[39;00m \u001b[39mreader\u001b[39;00m \u001b[39mimport\u001b[39;00m Reader\n\u001b[1;32m      <a href='vscode-notebook-cell:/media/ivirse/Data1/Project_ISOFH/chatbotdocs/bert-vietnamese-question-answering/google_qa.ipynb#W0sZmlsZQ%3D%3D?line=4'>5</a>\u001b[0m reader \u001b[39m=\u001b[39m Reader()\n",
      "File \u001b[0;32m/media/ivirse/Data1/Project_ISOFH/chatbotdocs/bert-vietnamese-question-answering/relevance_ranking.py:15\u001b[0m\n\u001b[1;32m     13\u001b[0m \u001b[39mimport\u001b[39;00m \u001b[39mpickle\u001b[39;00m\n\u001b[1;32m     14\u001b[0m \u001b[39mfrom\u001b[39;00m \u001b[39munderthesea\u001b[39;00m \u001b[39mimport\u001b[39;00m pos_tag\n\u001b[0;32m---> 15\u001b[0m \u001b[39mfrom\u001b[39;00m \u001b[39msynonyms\u001b[39;00m \u001b[39mimport\u001b[39;00m generateVariants\n\u001b[1;32m     16\u001b[0m \u001b[39mfrom\u001b[39;00m \u001b[39munderthesea\u001b[39;00m \u001b[39mimport\u001b[39;00m pos_tag, ner, word_tokenize\n\u001b[1;32m     17\u001b[0m \u001b[39mfrom\u001b[39;00m \u001b[39mentity_linking\u001b[39;00m \u001b[39mimport\u001b[39;00m extractEntVariants\n",
      "File \u001b[0;32m/media/ivirse/Data1/Project_ISOFH/chatbotdocs/bert-vietnamese-question-answering/synonyms.py:9\u001b[0m\n\u001b[1;32m      6\u001b[0m stopwords \u001b[39m=\u001b[39m \u001b[39mset\u001b[39m([w\u001b[39m.\u001b[39mreplace(\u001b[39m'\u001b[39m\u001b[39m \u001b[39m\u001b[39m'\u001b[39m,\u001b[39m'\u001b[39m\u001b[39m_\u001b[39m\u001b[39m'\u001b[39m) \u001b[39mfor\u001b[39;00m w \u001b[39min\u001b[39;00m stopwords])\n\u001b[1;32m      7\u001b[0m punct_set \u001b[39m=\u001b[39m \u001b[39mset\u001b[39m([c \u001b[39mfor\u001b[39;00m c \u001b[39min\u001b[39;00m string\u001b[39m.\u001b[39mpunctuation]) \u001b[39m|\u001b[39m \u001b[39mset\u001b[39m([\u001b[39m'\u001b[39m\u001b[39m“\u001b[39m\u001b[39m'\u001b[39m,\u001b[39m'\u001b[39m\u001b[39m”\u001b[39m\u001b[39m'\u001b[39m,\u001b[39m\"\u001b[39m\u001b[39m...\u001b[39m\u001b[39m\"\u001b[39m,\u001b[39m\"\u001b[39m\u001b[39m–\u001b[39m\u001b[39m\"\u001b[39m,\u001b[39m\"\u001b[39m\u001b[39m…\u001b[39m\u001b[39m\"\u001b[39m,\u001b[39m\"\u001b[39m\u001b[39m..\u001b[39m\u001b[39m\"\u001b[39m,\u001b[39m\"\u001b[39m\u001b[39m•\u001b[39m\u001b[39m\"\u001b[39m,\u001b[39m'\u001b[39m\u001b[39m“\u001b[39m\u001b[39m'\u001b[39m,\u001b[39m'\u001b[39m\u001b[39m”\u001b[39m\u001b[39m'\u001b[39m])\n\u001b[0;32m----> 9\u001b[0m \u001b[39mwith\u001b[39;00m \u001b[39mopen\u001b[39;49m(\u001b[39m'\u001b[39;49m\u001b[39mresources/bigram.txt\u001b[39;49m\u001b[39m'\u001b[39;49m) \u001b[39mas\u001b[39;00m f:\n\u001b[1;32m     10\u001b[0m     data \u001b[39m=\u001b[39m f\u001b[39m.\u001b[39mread()\u001b[39m.\u001b[39msplit(\u001b[39m'\u001b[39m\u001b[39m\\n\u001b[39;00m\u001b[39m'\u001b[39m)\n\u001b[1;32m     12\u001b[0m data \u001b[39m=\u001b[39m data[:\u001b[39m-\u001b[39m\u001b[39m1\u001b[39m]\n",
      "\u001b[0;31mFileNotFoundError\u001b[0m: [Errno 2] No such file or directory: 'resources/bigram.txt'"
     ]
    }
   ],
   "source": [
    "from gg_search import GoogleSearch\n",
    "ggsearch = GoogleSearch()\n",
    "from relevance_ranking import rel_ranking\n",
    "from reader import Reader\n",
    "reader = Reader()\n",
    "\n",
    "question = 'ai là người giàu nhất Việt Nam'\n",
    "    \n",
    "#Using google to find relevant documents\n",
    "links, documents = ggsearch.search(question)\n",
    "\n",
    "#Find relevant passages from documents\n",
    "passages = rel_ranking(question,documents)\n",
    "\n",
    "# Select top 40 paragraphs\n",
    "passages = passages[:40]\n",
    "\n",
    "\n",
    "passages "
   ]
  },
  {
   "cell_type": "code",
   "execution_count": 6,
   "metadata": {},
   "outputs": [
    {
     "name": "stdout",
     "output_type": "stream",
     "text": [
      "Collecting timeout-decorator\n",
      "  Downloading timeout-decorator-0.5.0.tar.gz (4.8 kB)\n",
      "  Preparing metadata (setup.py) ... \u001b[?25ldone\n",
      "\u001b[?25hBuilding wheels for collected packages: timeout-decorator\n",
      "  Building wheel for timeout-decorator (setup.py) ... \u001b[?25ldone\n",
      "\u001b[?25h  Created wheel for timeout-decorator: filename=timeout_decorator-0.5.0-py3-none-any.whl size=5006 sha256=265f40a696e63afe7d9b545b36eab454947d569a08b5d25418e1c1b7343cb054\n",
      "  Stored in directory: /home/tuannm/.cache/pip/wheels/68/2f/bc/76f1192d474666d41ae6f09813fccbd00fe3f07e8261c4cff5\n",
      "Successfully built timeout-decorator\n",
      "Installing collected packages: timeout-decorator\n",
      "Successfully installed timeout-decorator-0.5.0\n"
     ]
    }
   ],
   "source": [
    "!pip install timeout-decorator"
   ]
  }
 ],
 "metadata": {
  "kernelspec": {
   "display_name": "chatbotdocs",
   "language": "python",
   "name": "python3"
  },
  "language_info": {
   "codemirror_mode": {
    "name": "ipython",
    "version": 3
   },
   "file_extension": ".py",
   "mimetype": "text/x-python",
   "name": "python",
   "nbconvert_exporter": "python",
   "pygments_lexer": "ipython3",
   "version": "3.10.12"
  }
 },
 "nbformat": 4,
 "nbformat_minor": 2
}
