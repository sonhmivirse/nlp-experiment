{
  "cells": [
    {
      "cell_type": "code",
      "execution_count": 1,
      "metadata": {
        "colab": {
          "base_uri": "https://localhost:8080/"
        },
        "id": "DJUDrxwKbCU0",
        "outputId": "1c060026-373c-4d6e-a731-17dd1185ad0d"
      },
      "outputs": [
        {
          "name": "stderr",
          "output_type": "stream",
          "text": [
            "/home/tuannm/anaconda3/envs/chatbotdocs/lib/python3.10/site-packages/tqdm/auto.py:21: TqdmWarning: IProgress not found. Please update jupyter and ipywidgets. See https://ipywidgets.readthedocs.io/en/stable/user_install.html\n",
            "  from .autonotebook import tqdm as notebook_tqdm\n",
            "Some weights of the model checkpoint at bert-large-uncased-whole-word-masking-finetuned-squad were not used when initializing BertForQuestionAnswering: ['bert.pooler.dense.weight', 'bert.pooler.dense.bias']\n",
            "- This IS expected if you are initializing BertForQuestionAnswering from the checkpoint of a model trained on another task or with another architecture (e.g. initializing a BertForSequenceClassification model from a BertForPreTraining model).\n",
            "- This IS NOT expected if you are initializing BertForQuestionAnswering from the checkpoint of a model that you expect to be exactly identical (initializing a BertForSequenceClassification model from a BertForSequenceClassification model).\n"
          ]
        }
      ],
      "source": [
        "from transformers import BertTokenizer\n",
        "from transformers import BertForQuestionAnswering\n",
        "import torch\n",
        "\n",
        "# Initialize tokenizer for corpus of bert-large-uncased\n",
        "tokenizer = BertTokenizer.from_pretrained('bert-large-uncased-whole-word-masking-finetuned-squad', resume_download=True)\n",
        "\n",
        "# Initialize model BertForQuestionAnswering for bert-large-uncased\n",
        "model = BertForQuestionAnswering.from_pretrained('bert-large-uncased-whole-word-masking-finetuned-squad', resume_download=True)\n",
        "\n",
        "def answer_question(question, answer_text):\n",
        "    '''\n",
        "    Lấy input là chuỗi string của câu question và answer_text chứa nội dung câu trả lời của câu question.\n",
        "    Xác định từ trong answer_text là câu trả lời và in ra.\n",
        "    '''\n",
        "    # ======== Tokenize ========\n",
        "    # Áp dụng tokenizer cho cặp câu <question, answer_text>. input_ids là concatenate indice của cả 2 câu sau khi đã thêm các token CLS và SEP như mô tả trong tác vụ Question and Answering.\n",
        "    input_ids = tokenizer.encode(question, answer_text)\n",
        "\n",
        "    # ======== Set Segment IDs ========\n",
        "    # Xác định vị trí đầu tiên chứa token [SEP] trong câu.\n",
        "    tokens = tokenizer.convert_ids_to_tokens(input_ids)\n",
        "    sep_index = tokens.index('[SEP]')\n",
        "\n",
        "    # Tạo segment index đánh dấu các vị trí từ thuộc question (giá trị 0) và answer_text (giá trị 1)\n",
        "    num_seg_a = sep_index + 1\n",
        "    num_seg_b = len(input_ids) - num_seg_a\n",
        "    segment_ids = [0]*num_seg_a + [1]*num_seg_b\n",
        "    print(segment_ids)\n",
        "\n",
        "    # Kiểm tra độ dài segment_ids phải bằng input_ids\n",
        "    assert len(segment_ids) == len(input_ids)\n",
        "\n",
        "    # ======== Evaluate ========\n",
        "    # Dự báo phân phối xác suất của vị trí của từ start và từ end trong chuỗi concatenate <question, answer_text> mà chứa kết quả cho câu trả lời.\n",
        "    out = model(torch.tensor([input_ids]), # chuỗi index biểu thị cho inputs.\n",
        "                                    token_type_ids=torch.tensor([segment_ids])) # chuỗi index thành phần segment câu để phân biệt giữa câu question và câu answer_text\n",
        "\n",
        "    # ======== Reconstruct Answer ========\n",
        "    # Tìm ra vị trí start, end với score là cao nhất\n",
        "    answer_start = torch.argmax(out['start_logits'])\n",
        "    answer_end = torch.argmax(out['end_logits'])\n",
        "\n",
        "    # Chuyển ngược từ input_ids sang list tokens\n",
        "    tokens = tokenizer.convert_ids_to_tokens(input_ids)\n",
        "\n",
        "    # Token đầu tiên của câu trả lời\n",
        "    answer = tokens[answer_start]\n",
        "\n",
        "    # Lựa chọn các thành phần còn lại của câu trả lời và join chúng với whitespace.\n",
        "    for i in range(answer_start + 1, answer_end + 1):\n",
        "\n",
        "        # Nếu token là một subword token (có dấu ## ở đầu) thì combine vào answer bằng token gốc (loại bỏ dấu ##).\n",
        "        if tokens[i][0:2] == '##':\n",
        "            answer += tokens[i][2:]\n",
        "\n",
        "        # Nếu trái lại thì combine trực tiếp vào answer.\n",
        "        else:\n",
        "            answer += ' ' + tokens[i]\n",
        "    return answer"
      ]
    },
    {
      "cell_type": "code",
      "execution_count": 2,
      "metadata": {
        "id": "gzGiB_XGhfpa"
      },
      "outputs": [],
      "source": [
        "from googletrans import Translator\n",
        "\n",
        "def vi_to_en(text):\n",
        "  translator = Translator()\n",
        "  translation = translator.translate(text, src='vi', dest='en')\n",
        "  return translation.text\n",
        "\n",
        "def en_to_vi(text):\n",
        "  translator = Translator()\n",
        "  translation = translator.translate(text, src='en', dest='vi')\n",
        "  return translation.text"
      ]
    },
    {
      "cell_type": "code",
      "execution_count": 5,
      "metadata": {
        "colab": {
          "base_uri": "https://localhost:8080/",
          "height": 72
        },
        "id": "UR423NY9dVQD",
        "outputId": "c0ba8ad7-8233-4087-ffbd-43d17a54c7ca"
      },
      "outputs": [
        {
          "name": "stdout",
          "output_type": "stream",
          "text": [
            "[0, 0, 0, 0, 0, 0, 0, 0, 0, 0, 0, 0, 0, 1, 1, 1, 1, 1, 1, 1, 1, 1, 1, 1, 1, 1, 1, 1, 1, 1, 1, 1, 1, 1, 1, 1, 1, 1, 1, 1, 1, 1, 1, 1, 1, 1, 1, 1, 1, 1, 1, 1, 1, 1, 1, 1, 1, 1, 1, 1, 1, 1, 1, 1, 1, 1, 1, 1, 1, 1, 1, 1, 1, 1, 1, 1, 1, 1, 1, 1, 1, 1, 1, 1, 1, 1, 1, 1, 1, 1, 1, 1, 1, 1, 1, 1, 1, 1, 1, 1, 1, 1, 1, 1, 1, 1, 1, 1, 1, 1, 1, 1, 1, 1, 1, 1, 1, 1, 1, 1, 1, 1, 1, 1, 1, 1, 1, 1, 1, 1, 1, 1, 1, 1, 1, 1, 1, 1, 1, 1, 1, 1, 1, 1, 1, 1, 1, 1, 1, 1, 1, 1, 1, 1, 1, 1, 1, 1, 1, 1, 1, 1, 1, 1, 1, 1, 1, 1, 1, 1, 1, 1, 1, 1, 1, 1, 1, 1, 1, 1, 1, 1, 1, 1, 1, 1, 1, 1, 1, 1, 1, 1, 1, 1, 1, 1, 1, 1, 1, 1, 1, 1, 1, 1, 1, 1, 1, 1, 1, 1, 1, 1, 1, 1, 1, 1, 1, 1, 1, 1, 1, 1, 1, 1, 1, 1, 1, 1, 1, 1, 1, 1, 1, 1, 1, 1, 1, 1, 1, 1, 1, 1, 1, 1, 1, 1, 1, 1, 1, 1, 1, 1, 1, 1, 1, 1, 1, 1, 1, 1, 1, 1, 1, 1, 1, 1, 1, 1, 1, 1, 1, 1, 1, 1, 1, 1, 1, 1, 1, 1, 1, 1, 1, 1, 1, 1, 1, 1, 1, 1, 1, 1, 1, 1, 1, 1, 1, 1, 1, 1, 1, 1, 1, 1, 1, 1, 1, 1, 1, 1, 1, 1, 1, 1, 1, 1, 1, 1, 1, 1, 1, 1, 1, 1, 1, 1, 1, 1, 1, 1, 1, 1, 1, 1, 1, 1, 1, 1, 1, 1, 1, 1, 1, 1, 1, 1, 1, 1, 1, 1]\n"
          ]
        },
        {
          "data": {
            "text/plain": [
              "'.'"
            ]
          },
          "execution_count": 5,
          "metadata": {},
          "output_type": "execute_result"
        }
      ],
      "source": [
        "question = vi_to_en(\"\"\"bố của thạch thanh lâm kinh doanh gì\"\"\")\n",
        "paragraph = vi_to_en(\"Xuyên qua sảnh lớn, có một phòng nghỉ dành riêng cho khách VIP. Thạch Thanh Lâm tiến vào, bên trong chỉ có một người đàn ông trung niên, trên người mặc bộ đồ âu phục vừa vặn, ông ấy không ngồi mà đứng cạnh sofa, nhìn thấy anh thì lập tức tiến lên một bước, “Cậu chủ, lâu lắm rồi không gặp cậu.” “Đúng là lâu lắm rồi không gặp, chú Trần.”, thấy ông ấy đứng, Thạch Thanh Lâm liền ngồi luôn xuống tay vịn sofa. Chú Trần là thư ký của bố anh, theo bố anh đã mấy chục năm, vẫn luôn gọi bố anh là ông chủ, gọi anh là cậu chủ. Từ khi còn trẻ đến giờ, ngoài đôi nét đã già đi, thì hầu như chẳng có gì thay đổi. “Tính ra cũng phải hơn chục năm rồi, từ khi cậu ra nước ngoài là không còn gặp cậu nữa.”, chú Trần cảm thán, “Có phải cậu nên về thăm bố cậu một lần không?” Thạch Thanh Lâm xoay xoay dây đồng hồ trên cổ tay, chỉ vài giây, trong đầu anh đã cân nhắc xong rồi, “Chắc là không cần đâu, vừa rồi lúc ông ta đi vào hội trường cùng ban tổ chức, tôi nhìn thấy ông ta rồi.” Lúc ấy, khi nhóm người tiến vào, anh vừa liếc mắt đã nhìn thấy, bố anh cũng đưa mắt nhìn về phía anh, mặc dù không biết có phải là nhìn anh hay không. Anh cũng không ngờ lại gặp ông ta trong trường hợp này, bố anh kinh doanh trong rất nhiều lĩnh vực, chỉ riêng ngành game là chưa từng động vào. Chú Trần nói: “Ý tôi là về nhà gặp, đã bao nhiêu năm rồi hai bố con cậu không cùng ngồi xuống ăn một bữa cơm chung với nhau.\")\n",
        "\n",
        "en_to_vi(answer_question(question, paragraph))\n",
        "\n"
      ]
    },
    {
      "cell_type": "markdown",
      "metadata": {},
      "source": [
        "## PyPDF2"
      ]
    },
    {
      "cell_type": "code",
      "execution_count": 50,
      "metadata": {},
      "outputs": [],
      "source": [
        "import PyPDF2\n",
        "import re\n",
        "\n",
        "\n",
        "def extract_text_from_pdf(pdf_file: str) -> [str]:\n",
        "    reader = PyPDF2.PdfReader(pdf_file)\n",
        "    pdf_text = []\n",
        "    \n",
        "    \n",
        "    for page in reader.pages:\n",
        "        content = page.extract_text()\n",
        "        pdf_text.append(content)\n",
        "        \n",
        "    return pdf_text\n",
        "    "
      ]
    },
    {
      "cell_type": "code",
      "execution_count": 53,
      "metadata": {},
      "outputs": [],
      "source": [
        "content = extract_text_from_pdf(\"../Lâm Nam - Thiên Như Ngọc.pdf\")"
      ]
    },
    {
      "cell_type": "code",
      "execution_count": 55,
      "metadata": {},
      "outputs": [
        {
          "data": {
            "text/plain": [
              "'Biết chắc tên kia đã đi rồi, Thạch Thanh Lâm mới quay đầu đi vào nhà vệ sinh.\\n***\\nĐồ Nam chống hai tay lên mép bồn rửa mặt, nhìn vào gương mà khẽ nhíu mày .\\nHành động này thật ra có chút không ổn, nếu người đến là một người xa lạ thì\\ncòn đ ược, có điều  lại là T iết Thành, bị anh ta chứng kiến cô ở đây th ì khó mà\\ngiải thích rõ ràng được.\\nCó tiếng gõ cửa, Thạch Thanh Lâm đẩy cửa vào.\\nAnh không tiến vào trong, mà chỉ đứng ở cửa nhìn cô.\\nNhà vệ sinh không hề nhỏ, thậm chí là khá rộng, nhưng anh đứng ở cửa khiến\\nĐồ Nam bỗng cảm thấy rất chật chội, dường như còn chẳng có lối ra, chỉ chừa\\nlại đúng một chút không gian giữa hai người họ.\\n“Đi rồi à?”, cô chỉ hỏi mỗi vậy .\\n“Ừm.”, T hạch Thanh Lâm nói: “Cậ u ta chỉ lên nói mấy câu vớ vẩn thôi, không\\nphát hiện ra gì cả.”\\nKhông nói câu này còn đỡ, nói ra rồi mới lại xấu hổ. Đồ Nam im lặng, cụp mắt\\nxuống, đột nhiên l ại chú ý đến một chi tiết, cô vẫn đi giày của mình, cò n Thạch\\nThanh Lâm thì đã thay dép lê. Dù anh sống một mình nhưng trong nhà vẫn rất\\nsạch sẽ ngăn nắp, vậy mà anh lại không yêu cầu cô thay giày .\\nCô ngước mắt, chỉ nhìn thấy cằm của anh, lại lướt qua người anh, định đi ra\\nngoài.\\nĐúng lúc cô nghiêng người để đi qua, anh đột ngột duỗi tay ra.\\nĐồ Nam đứng lại, Thạch Thanh Lâm chống tay lên cửa, chặn đường của cô.\\nCô liếc sang nhìn anh.\\nThạch Thanh Lâm nghiêng người, nhìn cô chăm chú.\\nDạo gần đây anh rất hay nhìn cô, Đồ Nam gần như đã quen rồi, nhưng  lúc này\\nlại cảm thấy rất mất tự nhiên, những khi anh nhìn cô chằm chằm luôn khiến cô\\ncó cảm giác như cả thế giới chỉ còn lại một mình cô vậy .\\n“Đồ Nam.”, anh thấp giọng nói: “Hôm nay là ngày cuối cùng của kỳ n ghỉ cuối\\ntuần rồi.”\\n“Cho nên?”, cô hỏi, giọng nói thoáng run rẩy .\\n“Cái hẹn xem phim của chúng ta, vẫn chưa đi được.”, Thạch Thanh Lâm nói\\nxong liền chờ phản ứng của cô, không phải nhất thời kích động, mà bởi vừa rồi\\nT iết Thành đến nên cắt ngang lời Đồ Nam, anh phải cố đè nén những điều muốn\\nnói đến tận bây giờ mới dám lôi ra lại.'"
            ]
          },
          "execution_count": 55,
          "metadata": {},
          "output_type": "execute_result"
        }
      ],
      "source": [
        "content[273]"
      ]
    },
    {
      "cell_type": "code",
      "execution_count": 61,
      "metadata": {},
      "outputs": [
        {
          "name": "stdout",
          "output_type": "stream",
          "text": [
            "What do men do\n",
            "[0, 0, 0, 0, 0, 0, 1, 1, 1, 1, 1, 1, 1, 1, 1, 1, 1, 1, 1, 1, 1, 1, 1, 1, 1, 1, 1, 1, 1, 1, 1, 1, 1, 1, 1, 1, 1, 1, 1, 1, 1, 1, 1, 1, 1, 1, 1, 1, 1, 1, 1, 1, 1, 1, 1, 1, 1, 1, 1, 1, 1, 1, 1, 1, 1, 1, 1, 1, 1, 1, 1, 1, 1, 1, 1, 1, 1, 1, 1, 1, 1, 1, 1, 1, 1, 1, 1, 1, 1, 1, 1, 1, 1, 1, 1, 1, 1, 1, 1, 1, 1, 1, 1, 1, 1, 1, 1, 1, 1, 1, 1, 1, 1, 1, 1, 1, 1, 1, 1, 1, 1, 1, 1, 1, 1, 1, 1, 1, 1, 1, 1, 1, 1, 1, 1, 1, 1, 1, 1, 1, 1, 1, 1, 1, 1, 1, 1, 1, 1, 1, 1, 1, 1, 1, 1, 1, 1, 1, 1, 1, 1, 1, 1, 1, 1, 1, 1, 1, 1, 1, 1, 1, 1, 1, 1, 1, 1, 1, 1, 1, 1, 1, 1, 1, 1, 1, 1, 1, 1, 1, 1, 1, 1, 1, 1, 1, 1, 1, 1, 1, 1, 1, 1, 1, 1, 1, 1, 1, 1, 1, 1, 1, 1, 1, 1, 1, 1, 1, 1, 1, 1, 1, 1, 1, 1, 1, 1, 1, 1, 1, 1, 1, 1, 1, 1, 1, 1, 1, 1, 1, 1, 1, 1, 1, 1, 1, 1, 1, 1, 1, 1, 1, 1, 1, 1, 1, 1, 1, 1, 1, 1, 1, 1, 1, 1, 1, 1, 1, 1, 1, 1, 1, 1, 1, 1, 1, 1, 1, 1, 1, 1, 1, 1, 1, 1, 1, 1, 1, 1, 1, 1, 1, 1, 1, 1, 1, 1, 1, 1, 1, 1, 1, 1, 1, 1, 1, 1, 1, 1, 1, 1, 1, 1, 1, 1, 1, 1, 1, 1, 1, 1, 1, 1, 1, 1, 1, 1, 1, 1, 1, 1, 1, 1, 1, 1, 1, 1, 1, 1, 1, 1, 1, 1, 1, 1, 1, 1, 1, 1, 1, 1, 1, 1, 1, 1, 1, 1, 1, 1, 1, 1, 1, 1, 1, 1, 1, 1, 1, 1, 1, 1, 1, 1, 1, 1, 1, 1, 1, 1, 1, 1, 1, 1, 1, 1, 1, 1, 1, 1, 1, 1, 1, 1, 1, 1, 1, 1, 1, 1, 1, 1, 1, 1, 1, 1, 1, 1, 1, 1, 1, 1, 1, 1, 1, 1, 1, 1, 1, 1, 1, 1, 1, 1, 1, 1, 1, 1, 1, 1, 1, 1, 1, 1, 1, 1, 1, 1, 1, 1, 1, 1, 1, 1, 1, 1, 1, 1, 1, 1, 1, 1, 1, 1, 1, 1, 1, 1, 1, 1, 1, 1, 1, 1, 1, 1, 1, 1, 1, 1, 1, 1, 1, 1, 1, 1, 1, 1, 1, 1, 1]\n"
          ]
        },
        {
          "data": {
            "text/plain": [
              "'[CLS] Đàn ông làm gì [sep] khi biết rằng anh chàng kia đã biến mất, Thach Thanh Lam quay sang nhà vệ sinh.* * * tay của đàn ông trên mép bồn rửa, nhìn vào gương và nhíu mày'"
            ]
          },
          "execution_count": 61,
          "metadata": {},
          "output_type": "execute_result"
        }
      ],
      "source": [
        "question = vi_to_en(\"\"\"Đồ nam làm gì\"\"\")\n",
        "\n",
        "print(question)\n",
        "paragraph = vi_to_en(content[273])\n",
        "\n",
        "en_to_vi(answer_question(question, paragraph))"
      ]
    },
    {
      "cell_type": "markdown",
      "metadata": {},
      "source": [
        "## pdfplumber"
      ]
    },
    {
      "cell_type": "code",
      "execution_count": 4,
      "metadata": {},
      "outputs": [
        {
          "data": {
            "text/plain": [
              "'II. CHI PHÍ THANH TOÁN\\nKhối lượng công việc đã hoàn thành ……………..%\\nHai bên xác nhận thù lao chi trả cho Cộng tác viên để thực hiện công việc là:\\n…..................…….......................................................................................................... VNĐ\\n(Bằng chữ: .........................................................................................................................../.).\\nSau khi khấu trừ thuế thu nhập cá nhân tại nguồn, số tiền Cộng tác viên được thanh toán\\nlà: …..................………………………………………………………………………. VNĐ\\n(Bằng chữ: .............................................................................../.).\\nIII. KẾT LUẬN:\\n1. Cộng tác viên đã hoàn thành khối lượng công việc đúng theo hợp đồng đã ký.\\n2. Các công việc được Người Quản lý và theo dõi công việc của ISOFH xác nhận đủ điều\\nkiện thanh toán.\\n3. Hai bên thống nhất với nội dung Biên bản nghiệm thu và lấy làm cơ sở thanh toán chi phí\\ncho Cộng tác viên.\\n4. Biên bản này được lập thành 04 (bốn) bản, bên A giữ 02 (hai) bản, bên B giữ 02 (hai) bản\\ncó giá trị pháp lý như nhau.\\nCỘNG TÁC VIÊN NGƯỜI QUẢN LÝ VÀ THEO DÕI\\nCÔNG VIỆC\\nHOÀNG MINH SƠN PHÍ THỊ KIM ANH\\nTỔNG GIÁM ĐỐC\\nNGUYỄN TRẦN ĐÔNG'"
            ]
          },
          "execution_count": 4,
          "metadata": {},
          "output_type": "execute_result"
        }
      ],
      "source": [
        "import pdfplumber\n",
        "\n",
        "def plumber_read(pdffile):\n",
        "    content = []\n",
        "    with pdfplumber.open(pdffile) as pdf:\n",
        "        for page in pdf.pages:\n",
        "            content.append(page.extract_text())\n",
        "            \n",
        "    return content\n",
        "\n",
        "\n",
        "text = plumber_read(\"../Hoàng Minh Sơn- BB nghiệm thu CTV-T9.2023.pdf\")\n",
        "\n",
        "\n",
        "text[4]"
      ]
    }
  ],
  "metadata": {
    "accelerator": "GPU",
    "colab": {
      "gpuType": "T4",
      "provenance": []
    },
    "kernelspec": {
      "display_name": "Python 3",
      "name": "python3"
    },
    "language_info": {
      "codemirror_mode": {
        "name": "ipython",
        "version": 3
      },
      "file_extension": ".py",
      "mimetype": "text/x-python",
      "name": "python",
      "nbconvert_exporter": "python",
      "pygments_lexer": "ipython3",
      "version": "3.10.12"
    }
  },
  "nbformat": 4,
  "nbformat_minor": 0
}
