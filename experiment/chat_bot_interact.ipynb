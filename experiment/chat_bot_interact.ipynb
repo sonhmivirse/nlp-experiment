{
 "cells": [
  {
   "cell_type": "markdown",
   "metadata": {},
   "source": [
    "# Using Helsinki for translation"
   ]
  },
  {
   "cell_type": "code",
   "execution_count": 1,
   "metadata": {},
   "outputs": [
    {
     "name": "stderr",
     "output_type": "stream",
     "text": [
      "/home/tuannm/anaconda3/envs/chatbotdocs/lib/python3.10/site-packages/tqdm/auto.py:21: TqdmWarning: IProgress not found. Please update jupyter and ipywidgets. See https://ipywidgets.readthedocs.io/en/stable/user_install.html\n",
      "  from .autonotebook import tqdm as notebook_tqdm\n",
      "/home/tuannm/anaconda3/envs/chatbotdocs/lib/python3.10/site-packages/transformers/models/marian/tokenization_marian.py:194: UserWarning: Recommended: pip install sacremoses.\n",
      "  warnings.warn(\"Recommended: pip install sacremoses.\")\n"
     ]
    }
   ],
   "source": [
    "# Use a pipeline as a high-level helper\n",
    "from transformers import pipeline, Conversation\n",
    "\n",
    "translate_pipe = pipeline(\"translation\", model=\"Helsinki-NLP/opus-mt-vi-en\")\n",
    "vi_pipe = pipeline(\"translation\", model=\"Helsinki-NLP/opus-mt-en-vi\")\n",
    "\n",
    "\n",
    "conversation_pipe = pipeline(\"conversational\", model=\"facebook/blenderbot-400M-distill\")"
   ]
  },
  {
   "cell_type": "code",
   "execution_count": 2,
   "metadata": {},
   "outputs": [
    {
     "data": {
      "text/plain": [
       "Conversation id: 34b33dbf-818e-419a-abd6-916d90bc1aa1 \n",
       "user >> Isn't Hanoi beautiful, should I go to Vietnam \n",
       "bot >>  I have never been, but I have always wanted to go. It is a sovereign state in East Asia. "
      ]
     },
     "execution_count": 2,
     "metadata": {},
     "output_type": "execute_result"
    }
   ],
   "source": [
    "input_text = \"Hà Nội có đẹp không, tôi có nên đến Việt Nam\"\n",
    "translated_text = translate_pipe(input_text)[0]['translation_text']\n",
    "conversation = Conversation(translated_text)\n",
    "response = conversation_pipe(conversation)\n",
    "response"
   ]
  },
  {
   "cell_type": "code",
   "execution_count": 3,
   "metadata": {},
   "outputs": [
    {
     "data": {
      "text/plain": [
       "'Tôi chưa bao giờ đến đó, nhưng tôi luôn luôn muốn đi, đó là một quốc gia ở Đông Á.'"
      ]
     },
     "execution_count": 3,
     "metadata": {},
     "output_type": "execute_result"
    }
   ],
   "source": [
    "en_response = response.generated_responses[-1]\n",
    "vi_response = vi_pipe(en_response, max_length=1000)[0]['translation_text']\n",
    "vi_response"
   ]
  },
  {
   "cell_type": "markdown",
   "metadata": {},
   "source": [
    "# Using EnVit5 for translation"
   ]
  },
  {
   "cell_type": "code",
   "execution_count": 4,
   "metadata": {},
   "outputs": [],
   "source": [
    "translate_pipe = pipeline(\"translation\", model=\"VietAI/envit5-translation\")\n",
    "vi_pipe = pipeline(\"translation\", model=\"VietAI/envit5-translation\")"
   ]
  },
  {
   "cell_type": "code",
   "execution_count": 5,
   "metadata": {},
   "outputs": [],
   "source": [
    "from googletrans import Translator\n",
    "\n",
    "def vi_to_en(text):\n",
    "  translator = Translator()\n",
    "  translation = translator.translate(text, src='vi', dest='en')\n",
    "  return translation.text\n",
    "\n",
    "def en_to_vi(text):\n",
    "  translator = Translator()\n",
    "  translation = translator.translate(text, src='en', dest='vi')\n",
    "  return translation.text\n"
   ]
  },
  {
   "cell_type": "code",
   "execution_count": 10,
   "metadata": {},
   "outputs": [
    {
     "data": {
      "text/plain": [
       "[{'translation_text': 'en: Who is the president of the united states?'}]"
      ]
     },
     "execution_count": 10,
     "metadata": {},
     "output_type": "execute_result"
    }
   ],
   "source": [
    "user_text = \"ai là tổng thống mỹ\"\n",
    "input_text = \"vi: \" + user_text\n",
    "output_text = translate_pipe(input_text)\n",
    "translated_text = output_text[0]['translation_text'][4:]\n",
    "\n",
    "output_text"
   ]
  },
  {
   "cell_type": "code",
   "execution_count": 21,
   "metadata": {},
   "outputs": [
    {
     "data": {
      "text/plain": [
       "Conversation id: a4ca4936-dcb9-455e-9d07-a696155909d0 \n",
       "user >> So the result of 1 plus 1. \n",
       "bot >>  I think so, but I'm not sure.  I don't want to get my hopes up. "
      ]
     },
     "execution_count": 21,
     "metadata": {},
     "output_type": "execute_result"
    }
   ],
   "source": [
    "user_text = \"kết quả của phép toán 1 + 1\"\n",
    "input_text = \"vi: \" + user_text\n",
    "output_text = translate_pipe(input_text)\n",
    "translated_text = output_text[0]['translation_text'][4:]\n",
    "conversation = Conversation(translated_text)\n",
    "response = conversation_pipe(conversation)\n",
    "response"
   ]
  },
  {
   "cell_type": "code",
   "execution_count": 22,
   "metadata": {},
   "outputs": [
    {
     "data": {
      "text/plain": [
       "'Tôi nghĩ vậy, nhưng tôi không chắc. Tôi không muốn hy vọng quá nhiều.'"
      ]
     },
     "execution_count": 22,
     "metadata": {},
     "output_type": "execute_result"
    }
   ],
   "source": [
    "en_response = response.generated_responses[-1]\n",
    "vi_response = vi_pipe(en_response, max_length=1000)[0]['translation_text'][4:]\n",
    "vi_response"
   ]
  }
 ],
 "metadata": {
  "kernelspec": {
   "display_name": "chat_bot_env",
   "language": "python",
   "name": "python3"
  },
  "language_info": {
   "codemirror_mode": {
    "name": "ipython",
    "version": 3
   },
   "file_extension": ".py",
   "mimetype": "text/x-python",
   "name": "python",
   "nbconvert_exporter": "python",
   "pygments_lexer": "ipython3",
   "version": "3.10.12"
  },
  "orig_nbformat": 4
 },
 "nbformat": 4,
 "nbformat_minor": 2
}
