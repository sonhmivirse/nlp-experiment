{
  "cells": [
    {
      "cell_type": "code",
      "source": [],
      "metadata": {
        "id": "eENXxPJ62RBg"
      },
      "execution_count": null,
      "outputs": []
    },
    {
      "cell_type": "code",
      "source": [
        "from google.colab import drive\n",
        "drive.mount('/content/drive')"
      ],
      "metadata": {
        "colab": {
          "base_uri": "https://localhost:8080/"
        },
        "id": "upzkcWyG2RmT",
        "outputId": "bbacdd07-e696-411b-c8fd-52985f4969df"
      },
      "execution_count": 23,
      "outputs": [
        {
          "output_type": "stream",
          "name": "stdout",
          "text": [
            "Mounted at /content/drive\n"
          ]
        }
      ]
    },
    {
      "cell_type": "code",
      "source": [
        "!pip install transformers[torch]\n",
        "!pip install datasets"
      ],
      "metadata": {
        "colab": {
          "base_uri": "https://localhost:8080/"
        },
        "id": "zg6YgHZWUweq",
        "outputId": "a325c1d6-8f54-4a90-bd32-0a03a6cca790"
      },
      "execution_count": 1,
      "outputs": [
        {
          "output_type": "stream",
          "name": "stdout",
          "text": [
            "Requirement already satisfied: transformers[torch] in /usr/local/lib/python3.10/dist-packages (4.34.0)\n",
            "Requirement already satisfied: filelock in /usr/local/lib/python3.10/dist-packages (from transformers[torch]) (3.12.4)\n",
            "Requirement already satisfied: huggingface-hub<1.0,>=0.16.4 in /usr/local/lib/python3.10/dist-packages (from transformers[torch]) (0.17.3)\n",
            "Requirement already satisfied: numpy>=1.17 in /usr/local/lib/python3.10/dist-packages (from transformers[torch]) (1.23.5)\n",
            "Requirement already satisfied: packaging>=20.0 in /usr/local/lib/python3.10/dist-packages (from transformers[torch]) (23.2)\n",
            "Requirement already satisfied: pyyaml>=5.1 in /usr/local/lib/python3.10/dist-packages (from transformers[torch]) (6.0.1)\n",
            "Requirement already satisfied: regex!=2019.12.17 in /usr/local/lib/python3.10/dist-packages (from transformers[torch]) (2023.6.3)\n",
            "Requirement already satisfied: requests in /usr/local/lib/python3.10/dist-packages (from transformers[torch]) (2.31.0)\n",
            "Requirement already satisfied: tokenizers<0.15,>=0.14 in /usr/local/lib/python3.10/dist-packages (from transformers[torch]) (0.14.1)\n",
            "Requirement already satisfied: safetensors>=0.3.1 in /usr/local/lib/python3.10/dist-packages (from transformers[torch]) (0.4.0)\n",
            "Requirement already satisfied: tqdm>=4.27 in /usr/local/lib/python3.10/dist-packages (from transformers[torch]) (4.66.1)\n",
            "Requirement already satisfied: torch!=1.12.0,>=1.10 in /usr/local/lib/python3.10/dist-packages (from transformers[torch]) (2.0.1+cu118)\n",
            "Requirement already satisfied: accelerate>=0.20.3 in /usr/local/lib/python3.10/dist-packages (from transformers[torch]) (0.23.0)\n",
            "Requirement already satisfied: psutil in /usr/local/lib/python3.10/dist-packages (from accelerate>=0.20.3->transformers[torch]) (5.9.5)\n",
            "Requirement already satisfied: fsspec in /usr/local/lib/python3.10/dist-packages (from huggingface-hub<1.0,>=0.16.4->transformers[torch]) (2023.6.0)\n",
            "Requirement already satisfied: typing-extensions>=3.7.4.3 in /usr/local/lib/python3.10/dist-packages (from huggingface-hub<1.0,>=0.16.4->transformers[torch]) (4.5.0)\n",
            "Requirement already satisfied: sympy in /usr/local/lib/python3.10/dist-packages (from torch!=1.12.0,>=1.10->transformers[torch]) (1.12)\n",
            "Requirement already satisfied: networkx in /usr/local/lib/python3.10/dist-packages (from torch!=1.12.0,>=1.10->transformers[torch]) (3.1)\n",
            "Requirement already satisfied: jinja2 in /usr/local/lib/python3.10/dist-packages (from torch!=1.12.0,>=1.10->transformers[torch]) (3.1.2)\n",
            "Requirement already satisfied: triton==2.0.0 in /usr/local/lib/python3.10/dist-packages (from torch!=1.12.0,>=1.10->transformers[torch]) (2.0.0)\n",
            "Requirement already satisfied: cmake in /usr/local/lib/python3.10/dist-packages (from triton==2.0.0->torch!=1.12.0,>=1.10->transformers[torch]) (3.27.6)\n",
            "Requirement already satisfied: lit in /usr/local/lib/python3.10/dist-packages (from triton==2.0.0->torch!=1.12.0,>=1.10->transformers[torch]) (17.0.2)\n",
            "Requirement already satisfied: charset-normalizer<4,>=2 in /usr/local/lib/python3.10/dist-packages (from requests->transformers[torch]) (3.3.0)\n",
            "Requirement already satisfied: idna<4,>=2.5 in /usr/local/lib/python3.10/dist-packages (from requests->transformers[torch]) (2.10)\n",
            "Requirement already satisfied: urllib3<3,>=1.21.1 in /usr/local/lib/python3.10/dist-packages (from requests->transformers[torch]) (2.0.6)\n",
            "Requirement already satisfied: certifi>=2017.4.17 in /usr/local/lib/python3.10/dist-packages (from requests->transformers[torch]) (2023.7.22)\n",
            "Requirement already satisfied: MarkupSafe>=2.0 in /usr/local/lib/python3.10/dist-packages (from jinja2->torch!=1.12.0,>=1.10->transformers[torch]) (2.1.3)\n",
            "Requirement already satisfied: mpmath>=0.19 in /usr/local/lib/python3.10/dist-packages (from sympy->torch!=1.12.0,>=1.10->transformers[torch]) (1.3.0)\n",
            "Requirement already satisfied: datasets in /usr/local/lib/python3.10/dist-packages (2.14.5)\n",
            "Requirement already satisfied: numpy>=1.17 in /usr/local/lib/python3.10/dist-packages (from datasets) (1.23.5)\n",
            "Requirement already satisfied: pyarrow>=8.0.0 in /usr/local/lib/python3.10/dist-packages (from datasets) (9.0.0)\n",
            "Requirement already satisfied: dill<0.3.8,>=0.3.0 in /usr/local/lib/python3.10/dist-packages (from datasets) (0.3.7)\n",
            "Requirement already satisfied: pandas in /usr/local/lib/python3.10/dist-packages (from datasets) (1.5.3)\n",
            "Requirement already satisfied: requests>=2.19.0 in /usr/local/lib/python3.10/dist-packages (from datasets) (2.31.0)\n",
            "Requirement already satisfied: tqdm>=4.62.1 in /usr/local/lib/python3.10/dist-packages (from datasets) (4.66.1)\n",
            "Requirement already satisfied: xxhash in /usr/local/lib/python3.10/dist-packages (from datasets) (3.4.1)\n",
            "Requirement already satisfied: multiprocess in /usr/local/lib/python3.10/dist-packages (from datasets) (0.70.15)\n",
            "Requirement already satisfied: fsspec[http]<2023.9.0,>=2023.1.0 in /usr/local/lib/python3.10/dist-packages (from datasets) (2023.6.0)\n",
            "Requirement already satisfied: aiohttp in /usr/local/lib/python3.10/dist-packages (from datasets) (3.8.6)\n",
            "Requirement already satisfied: huggingface-hub<1.0.0,>=0.14.0 in /usr/local/lib/python3.10/dist-packages (from datasets) (0.17.3)\n",
            "Requirement already satisfied: packaging in /usr/local/lib/python3.10/dist-packages (from datasets) (23.2)\n",
            "Requirement already satisfied: pyyaml>=5.1 in /usr/local/lib/python3.10/dist-packages (from datasets) (6.0.1)\n",
            "Requirement already satisfied: attrs>=17.3.0 in /usr/local/lib/python3.10/dist-packages (from aiohttp->datasets) (23.1.0)\n",
            "Requirement already satisfied: charset-normalizer<4.0,>=2.0 in /usr/local/lib/python3.10/dist-packages (from aiohttp->datasets) (3.3.0)\n",
            "Requirement already satisfied: multidict<7.0,>=4.5 in /usr/local/lib/python3.10/dist-packages (from aiohttp->datasets) (6.0.4)\n",
            "Requirement already satisfied: async-timeout<5.0,>=4.0.0a3 in /usr/local/lib/python3.10/dist-packages (from aiohttp->datasets) (4.0.3)\n",
            "Requirement already satisfied: yarl<2.0,>=1.0 in /usr/local/lib/python3.10/dist-packages (from aiohttp->datasets) (1.9.2)\n",
            "Requirement already satisfied: frozenlist>=1.1.1 in /usr/local/lib/python3.10/dist-packages (from aiohttp->datasets) (1.4.0)\n",
            "Requirement already satisfied: aiosignal>=1.1.2 in /usr/local/lib/python3.10/dist-packages (from aiohttp->datasets) (1.3.1)\n",
            "Requirement already satisfied: filelock in /usr/local/lib/python3.10/dist-packages (from huggingface-hub<1.0.0,>=0.14.0->datasets) (3.12.4)\n",
            "Requirement already satisfied: typing-extensions>=3.7.4.3 in /usr/local/lib/python3.10/dist-packages (from huggingface-hub<1.0.0,>=0.14.0->datasets) (4.5.0)\n",
            "Requirement already satisfied: idna<4,>=2.5 in /usr/local/lib/python3.10/dist-packages (from requests>=2.19.0->datasets) (2.10)\n",
            "Requirement already satisfied: urllib3<3,>=1.21.1 in /usr/local/lib/python3.10/dist-packages (from requests>=2.19.0->datasets) (2.0.6)\n",
            "Requirement already satisfied: certifi>=2017.4.17 in /usr/local/lib/python3.10/dist-packages (from requests>=2.19.0->datasets) (2023.7.22)\n",
            "Requirement already satisfied: python-dateutil>=2.8.1 in /usr/local/lib/python3.10/dist-packages (from pandas->datasets) (2.8.2)\n",
            "Requirement already satisfied: pytz>=2020.1 in /usr/local/lib/python3.10/dist-packages (from pandas->datasets) (2023.3.post1)\n",
            "Requirement already satisfied: six>=1.5 in /usr/local/lib/python3.10/dist-packages (from python-dateutil>=2.8.1->pandas->datasets) (1.16.0)\n"
          ]
        }
      ]
    },
    {
      "cell_type": "code",
      "execution_count": 2,
      "metadata": {
        "id": "T_g9-b5BKJBf",
        "colab": {
          "base_uri": "https://localhost:8080/"
        },
        "outputId": "4560ade3-98ba-442f-8003-35943402aad6"
      },
      "outputs": [
        {
          "output_type": "stream",
          "name": "stderr",
          "text": [
            "Special tokens have been added in the vocabulary, make sure the associated word embeddings are fine-tuned or trained.\n"
          ]
        }
      ],
      "source": [
        "from transformers import AutoTokenizer, AutoModelForSeq2SeqLM, BlenderbotTokenizer\n",
        "# from datasets import load_dataset\n",
        "\n",
        "model_name = \"./saved_model\"\n",
        "tokenizer = AutoTokenizer.from_pretrained(model_name)\n",
        "model = AutoModelForSeq2SeqLM.from_pretrained(model_name)"
      ]
    },
    {
      "cell_type": "code",
      "source": [
        "import pandas as pd\n",
        "\n",
        "df = pd.read_json(\"./translate_data.json\")"
      ],
      "metadata": {
        "id": "_dREBgznxj9S"
      },
      "execution_count": 3,
      "outputs": []
    },
    {
      "cell_type": "code",
      "source": [
        "sequences = list(df[\"examples\"])"
      ],
      "metadata": {
        "id": "F_b9F3M8xsvg"
      },
      "execution_count": 4,
      "outputs": []
    },
    {
      "cell_type": "code",
      "execution_count": 5,
      "metadata": {
        "id": "7OJvsZfdKJBg",
        "colab": {
          "base_uri": "https://localhost:8080/"
        },
        "outputId": "3ea634fc-7457-459c-d3fa-b6a9723721f7"
      },
      "outputs": [
        {
          "output_type": "execute_result",
          "data": {
            "text/plain": [
              "{'input_ids': tensor([[ 680,   58,   50,  ...,    0,    0,    0],\n",
              "        [1786,  343, 2618,  ...,    0,    0,    0],\n",
              "        [ 432,   41,  596,  ...,    0,    0,    0],\n",
              "        ...,\n",
              "        [ 553, 7826, 1099,  ...,    0,    0,    0],\n",
              "        [ 553,  366, 3645,  ...,    0,    0,    0],\n",
              "        [ 855,  983,  366,  ...,    0,    0,    0]]), 'attention_mask': tensor([[1, 1, 1,  ..., 0, 0, 0],\n",
              "        [1, 1, 1,  ..., 0, 0, 0],\n",
              "        [1, 1, 1,  ..., 0, 0, 0],\n",
              "        ...,\n",
              "        [1, 1, 1,  ..., 0, 0, 0],\n",
              "        [1, 1, 1,  ..., 0, 0, 0],\n",
              "        [1, 1, 1,  ..., 0, 0, 0]])}"
            ]
          },
          "metadata": {},
          "execution_count": 5
        }
      ],
      "source": [
        "# sequences = ['Who are you?',\n",
        "#              'What is your name?',\n",
        "#              'Are you ok?',\n",
        "#              'I got flu',\n",
        "#              \"KSK01 prints without data NB\",\n",
        "#              'I got cough iam a winner. To go to hospital, turn left, turn right and then go straight ahead']\n",
        "\n",
        "batch = tokenizer(sequences, padding='max_length', truncation=True, return_tensors='pt')\n",
        "# batch = tokenizer(sequences, padding=True, return_tensors='pt')\n",
        "\n",
        "batch"
      ]
    },
    {
      "cell_type": "code",
      "execution_count": 6,
      "metadata": {
        "id": "M5ipCZSsKJBg"
      },
      "outputs": [],
      "source": [
        "# tokenizer.decode(batch['input_ids'][3])"
      ]
    },
    {
      "cell_type": "code",
      "source": [
        "replies = list(df[\"response\"])"
      ],
      "metadata": {
        "id": "0pseJHlOx4Nf"
      },
      "execution_count": 7,
      "outputs": []
    },
    {
      "cell_type": "code",
      "source": [
        "replies"
      ],
      "metadata": {
        "colab": {
          "base_uri": "https://localhost:8080/"
        },
        "id": "UD000DVjLnP9",
        "outputId": "183acb9d-9ab6-4ab6-ef60-48aa004abab3"
      },
      "execution_count": 8,
      "outputs": [
        {
          "output_type": "execute_result",
          "data": {
            "text/plain": [
              "[\"Step 1: Please print criteria\\nStep 2: The printing contract does not go to NB, then go to the list of the patient list that has been welcomed -> Find the company to see if the company has been welcomed KSK or not?\\n'+ If not, do not report to the KSK -> need to report to the user\\n+ If then, go to the medical record screen to check\",\n",
              " '1/ The reception list screen: Check if NB has a service.If so, check the reception status of KSK = have welcomed KSK or not?-> If not, receive.If then set it to the case below\\n2/ Has the account checked the specialties according to the value code in the general settings have the key chuyen_khoa?\\n3/ Check if the examination service in the list of medical examination services has been assigned to KSK specialties',\n",
              " '1/ Ask for the get time that the user reports -> Check the implementation time (implementation time) of the service at the medical record screen, press the eye icon to see, see satisfied timeLis Get space yet?\\n(1.1) If not, then report the right time\\n(1.2) If then check the case: Has the service category were set up the connection unit?If set up, then check the implementation room of the service is set out of the hospital = True or False -> True, the default does not display (need to change the settings and the repair impact of the implementation room to eat according to the designnew establishment), FASLE will display the side Lis\\n+ If it is true (1.1), (1.2), then report the ISOFH check',\n",
              " 'Processing: Please report the get specified by LIS and RESPONSE Returns to see at first Get, the RESPOne returns\\nThe main reason: Because at the time when GET indicates that the Payment status of HIS = has not been paid -> users can delete the order and re -appoint that service, the test ID has been changedWhen returning the results, it will not be found to pay (ISOFH explained to the PK side)',\n",
              " 'Cause: Because Lis Set lacks service status, it is lacked\\nSolution: Lis map again\\nStatus: Lis has completed processing',\n",
              " 'Cause: Due to the Enter the ENTERT FOR LIS Convert, it is affected to drop some packets when updating the results to His',\n",
              " 'Solution: Receiving screen -> Find NB and click the cancellation button -> Receive back',\n",
              " 'Processing: PK exchange on the common group: Mirai Clinic His-ri-racs so that the two sides of His, Pacs will know the support information\\nDetails: When His, Pacs received information to clarify:\\nWith His: Please report and reponse when PACS returns successful results to check\\nFor PACS: Provide newsletters, reposne with the time to return the results to HIS check log on his side\\nAfter completion: Report the results to the PK side',\n",
              " 'Cause: Because the user is wrongly accumulated icon does not perform in the screen of the Tab DVKT tab -> Payment status changes from normal => does not perform\\nSo Pacs returned the results to his error\\nProcessing: DEV report in return status = normal to return the results of guests\\nStatus: Redented only for system administration to confirm not to perform -> no more accommodation errors as notified to the case of payment status = no implementation',\n",
              " 'Check if NB is under 18 years old?Because patients under 18 years old, there is only 1 form A4.\\nAnd over the age of 18 to choose the form: A3 or A4',\n",
              " \"Handling steps:\\n1/ Go to the contract list -> Tab list of patients, go to the details of the column's data to change the form of service in addition to the contract from the payment according to the contract into a self -payment.\\n2/ Screen: The list of patients has welcomed, searched NB -> into the details of NB -> click the button edit: Self -return for the indicated services outside the contract -> click Button Luu\\nThe purpose of the step (2) for the system to produce the payment voucher in the screen list\",\n",
              " 'Need to push a new exam from CRM to give birth to a new application code (using the same code NB)',\n",
              " '1/ In case of existing results in the list of image diagnostic results and function exploration: Service name field, adding the service name to assign that available results sample\\n+ If the service is added to the KQ model, users need to click on the icon?(On the right hand the screen, press the category syncing -> go back to the guest and add the results for guests\\n\\n2/ In case there is no result form of the service in the list of image diagnostic results and functional exploration -> need to press more new samples, fill out the information: name+, code+, informationKQ, KL, intervention method, intervention method, service name+',\n",
              " 'NSD: Contact the IT department/ department in charge to handle\\nIT room:\\n1. In account administration\\n2. Search and select accounts to be processed\\n3. Click to select Reset the password in the operating pole\\n=> The system will reset the default password of NSD to 123456',\n",
              " 'The reason is that computers have antivirus software-> antivirus software is default that isofhtool is an unsafe software, so automatically deleted the installation file => cannot use LCD + cannot print quickly quickly\\n\\nHandle:\\n1. Find the antivirus software\\n2. Return Antivirus software that allows not to scan into the file isofhtool',\n",
              " 'Cause: Because the URL of the Tool and Shortcut outside the screen does not coincide with each other\\nHandle:\\n1.What is the URL to see what the URL\\n2.Copy again the URL finished the tool and paste on the website\\n3.The old shortcut and creating a new shortcut for the computer',\n",
              " 'Handle:\\n1.To ISoft Tools\\n2. Save button',\n",
              " 'Handle:\\nTemporarily, when encountering this case.\\n1. Escape or Ctrl F5\\n2. Select that nb again\\n3. Entering the hospital\\n4. Save\\n5. Print hospitalization',\n",
              " 'Handle\\nIn case of not paid:\\n1.The first call down the room to specify that service requires cancellation of the service\\n2.After the reception, the service will fall into a state of welcoming, at this time I can delete the service.\\nIn case of payment:\\n1.The first call the studio to choose to cancel the payment\\n2. In case the patient has received it, perform the operation as the above steps and pay again\\n3. In case the patient has not been accepted into the clinic, cancel payment -> cancel the service and then pay again\\nCurrently the case of Le Kha Nhu\\nApplication code:\\n2306080067\\nNB code:\\n2306006611\\nBeing trapped by the reason is that the doctor forgot to delete that appointment and paid, the patient returned.',\n",
              " \"There are 2 cases\\n+ Th 1: Not ticking without charge (international insurance) => running the Tick 'does not charge' is ok\\n+ TH2: The doctor set up a long -term non -resident medical record\\n1. Check the long -term treatment department: Choose a new medical examination\\n2. Check out the diagnostic doctors !!\",\n",
              " 'Treatment:\\n1. Go to another utility, choose to cancel the examination (because when I call in, the person will switch from the state of the examination, so I have to cancel the examination so that NB will switch to the status of waiting for the examination)\\n2. Choose another utility, change the room or ask to operate the room for the room',\n",
              " 'Treatment:\\n1. Checking if not counting money is a service or supplies\\n2. If it is a material => medical examination => supplies => divine pencil => press excluding money => save',\n",
              " '1. Go to the examination screen to find NB name\\n2. Cancel conclusions\\n3. Delete the Institute\\n4. Other utilities: Cancel exam-> change the implementation room',\n",
              " '1. Choose other utilities\\n2. Select consultation\\n3. Select new consultation\\n4. Information\\n5. Save button\\n6. Print button',\n",
              " '1. Check what the printer is now\\n2.The category of Setting printer is suffering to be in accordance with the format\\n3. Data set',\n",
              " 'In case of occurring when NB registered the A examination pack then changed to the exam pack B but the system did not update the data => the doctor appointed the Sercut Service of the examination pack, the system will report an error\\nSolution\\n1. Go to the DS to welcome to check again to see which package is being registered\\n2. Ctrl F5 to reload data again',\n",
              " \"The doctor gives the prescription day for 30 days but there is 1 drug that only takes 5 days\\nSolution:\\n1. Status all prescriptions as usual => Save prescription\\n2. Click on the pen editing pen to edit\\n3. Edit the number of prescribed days at the 'number of days' information school\\n4. Save\",\n",
              " '1.The section concluding the examination or pressing F11\\n2. Closing records.',\n",
              " \"At present, he is forced to make an advance to manipulate it for this case\\n1. Tick does not charge\\n2. Go to the closed medical examination 'ignore'\\nOr if NB does not examine\\n=> Go to DS to welcome to delete the examination\\n=> Cancel welcome NB\",\n",
              " \"Currently: On His doctor, if the doctor indicates a blood -related test, after appointing the DV status will be in a state of 'waiting for samples' so if you want to delete it, you will not be deleted.\\nHandle:\\n1. Go to the test module on His\\n2. Confirmation of sampling\\n3. Cancellation of samples\\n4. Go to MH to delete the indicator\",\n",
              " 'This case is because the doctor does not enter the department to be admitted to the hospital.\\nHandle:\\nGo to the exam conclusion => scroll down to the selection of the hospital for hospitalization => Select the department =',\n",
              " 'Handle :\\n1. Search patients.\\n2. Click on the service details.\\n3. Bringing the service to the ultrasound room (SA).',\n",
              " 'Handle :\\n1. Search for patient services.\\n2. Click on the service details.\\n3. Select the material section.\\n4. Delete the prescribed supplies.\\n5. Cancel service',\n",
              " 'Handle:\\n1.When the cash screen checks to see what state is in the state\\n2.If the patient is in the state that has ended or discharged from the hospital, then re -print the list to see if it is still sufficient or not (because it may have just updated the status)\\n3.If NB is in the state of treatment, we end the treatment (in case the NB has been completed) or the treatment interrupted (in case NB will return to treatment) and then re -print the list).',\n",
              " 'Handle:\\n1.What area category\\n2. In the area of the area we search for tieuchuan\\n3.Click in there, adjust the type of object from the standard to strengthening',\n",
              " 'Handle:\\n1. Click on the printer icon\\n2. Delete old print commands\\n3. Print the votes',\n",
              " 'Handle:\\n1. Scan the application code into the cashier\\n2. Print the list',\n",
              " 'Processing: 1) Calling them to be an eye examination or a molar examination, 2) asking them to send a message to the service guide',\n",
              " 'Processing: 1) Finish the long -term treatment and then continue printing',\n",
              " \"treatment:\\n1.Instead of repairing the type of object to change the type of object to health insurance\\n2.The after repairing the type of payment in the patient's reception is the fee/health insurance\",\n",
              " 'treatment:\\n1. Payment of the old receipt, in case the drug does not charge\\nWhat the patient area examines the box without money\\n2.After that is new, normal,',\n",
              " '1. Check to see if the patient is in a state of treatment\\n2.If you are in the process of treatment\\n2.1 treatment (in case of NB continues to treat, print the list and then re -treatment)\\n2.2 treatment ending and printing the list (in case of completion of treatment)',\n",
              " '1.NB Payment -> Call accountant to request cancellation of HDDT and cancel payment\\n2.The NB list has been welcomed\\n3. Select edit information\\n4. Health insurance code',\n",
              " 'Handle:\\n1. The doctor canceled the conclusion, cancel the examination\\n2. Receive to cancel the old service, resume the service',\n",
              " 'Handle:\\n1. When entering the information of the immunization object, the system will display the previously imported NB information\\n2. Click on NB information to receive NB, agree to give birth to a new HS code\\n3. Service statement as usual',\n",
              " \"Handle:\\n1. Go to the clinic to click cancel the examination\\n2. The reception desk on the 'Welcoming NB list' and click the Room\",\n",
              " \"Handle:\\n1. In the immunization reception screen, select the object of 'employees' and enter the village news like BTH\\n2. Service and clinic specifications like other examinations\\n3. Go to the screen 'Welcome NB list' and tick without charge\",\n",
              " 'Handle:\\nReport to ISOFH to delete because the current deletion feature is not available',\n",
              " 'Handle:\\nTN Hoan advance will be the one who pays the service.',\n",
              " \"Handle:\\n1. Select the end of treatment.\\n2. Choose the lines on the bed that you want to edit or delete.\\n3. Select the icon icon 'select' continue 'pencil' and edit the number of days and time to change.\\n4. Select the 'volume' sign to save.\\n5. Select the icon 'trash' to delete.\",\n",
              " \"Handle:\\n1. Select the link without link.\\n2. Click on the pencil and check the 'usage line' of the fluid.\\n2. If the wrong way, select and save.\",\n",
              " 'Doctor prescribing the service and administrative department printing the health insurance list',\n",
              " '1. End of treatment\\n2. Edit the number of bedroom days in accordance with reality',\n",
              " '1. Go to general information to select hospital information\\n2. Delete the discharge date -> press',\n",
              " '1. Check the documents to see if there is any condition that is not satisfied\\n2. Solving these conditions - Going to the boarding service about the information of the services:\\n2.1.The service has not been completed - Contact the doctor to see if the service has done it yet, if any, please ask the doctor to complete that dv with the time of completion before the time of the hospital\\n2.2.Getting caught: if the drug has been -> returning the drug;If the drug has not been given -> delete that medicine in the treatment sheet\\n2.3.Error related to time -> go to the boarding service to correct the time before the time of the hospital or the time of the hospital after that time',\n",
              " '1. End of treatment\\n2. Completing the service that has not returned the results, gives the drug for the drugs that have not been given\\n3. Direction for treatment of hospital transfer -> completing referral paper-> printing transfer paper',\n",
              " 'On the BS system for the appointment of the order to print the designated voucher, in case the family does not agree, delete the appointment.',\n",
              " '1. If the reception is welcomed, prescribed materials or indications -> delete indications, materials\\n2. Other utilities -> Cancel reception of patients\\n3. Delete medical records in the medical record\\n4. Cancellation of conclusions in the examination screen and service statement',\n",
              " 'Instructing the doctor to recreate the room to perform in the department so that the nursing can find nb and import drugs as well as supplies needed for the service.',\n",
              " 'Because other accounts are not saved or due to the successful treatment of treatment.HD BS after fixing the treatment sheet should wait after 5 minutes to turn off the tab.',\n",
              " \"1. Visit the bedroom to check if NB is lying on the bed on the day of the drug form\\n- If 'no' -> add the bed room\\n- If 'yes' -> check the time to lie down to see the right?-> Adjust the time\\n2. Create more votes\",\n",
              " '1. Only create a pre -treatment sheet in case of sure that NB will not transfer the department\\n2.If NB transferred the department, it must be deleted before the previous treatment\\n3.After moving back to the initial department, the new treatment sheet',\n",
              " '1. Cashier CONTACT FACIL\\n2. Faculty of editing time of the treatment sheet before the current time (eg 9h20)\\n3. Adjust the implementation time of services, drugs, ... in the treatment sheet\\n4. End of treatment\\n5. Print the list',\n",
              " 'Correct name nb',\n",
              " '1. Delete the coupon\\n2. Adjust the quantity',\n",
              " 'Doctor prescribing the service and administrative department printing the health insurance list',\n",
              " 'Instructions for canceling the retail drug.Instructions on the doctors from even on an even on the cabinet for some drugs immediately canceled or canceled after 24 hours of even SL to synthesize offset the cabinet',\n",
              " 'Reason: The type of medicine in the hospital medicine warehouse has existed or that drug exists many codes that the code wants to receive.\\nCall down the pharmaceutical warehouse for treatment.',\n",
              " \"1. Go to the list of inpatient patients\\n2. Choose the right work department\\n3. Use filters, filter the status of the status into 'all' and press\\n4. Proceed to find NB through the name, code NB, HS code, BA code\",\n",
              " '1. Go to the list of inpatient patients\\n2. Choose the correct name of the sick person to update the bed date information\\n3. Go to the room tab, bed\\n4. Choose the bed line to edit\\n5. Click on the eye -shaped icon to view information\\n6. Click on the pen icon is to edit the field and press the tick to save the change\\nNote: Can only change room information, beds with chief or departmental accounts',\n",
              " '1. The doctor appoints the service to perform\\n2. At the procedure surgery screen -> receiving -> filling in information -> click without surgery\\n\\n-> Purpose: There is information to print a report, the service does not charge and does not go to the list',\n",
              " '1. Go to boarding service\\n2. Check any dv drum type of payment is supplemented.',\n",
              " 'The browser settings allow to open a new tab',\n",
              " 'Cancel all the printing commands waiting => re -print => If still not, then temporarily block the printing tool',\n",
              " 'Check the tool to lead the correct image of the image on the scanner, if not, then fix the path to the image saving folder on the machine',\n",
              " 'Go to the treatment sheet to choose the service, find the service you want to convert, click confirm',\n",
              " 'I am IVIVI, chatbot answered questions about youD for you',\n",
              " \"Sorry I couldn't do it like chat GPT, I was just a bot installed to answer questions about your use documents that I learned.\",\n",
              " 'I was developed by Developer Hoang Minh Son - a member of Team IVISSE at ISOFH',\n",
              " 'My answer is aimed at supporting customers, based on understanding and what I have been taught.The answer is for reference only, not 100%incorrect.',\n",
              " 'Sorry I have a mistake, please ask questions again.Your question will be recognized and improved in the coming conversations.',\n",
              " 'I was created by Developer Hoang Minh Son of Team IVIRES',\n",
              " \"Hello, I'm Vivi.I am chatbot - medical assistant support and I am not old.I was programmed to help you search for information on how to use ISOFH products.Let Vivi know if you are having any problems!\"]"
            ]
          },
          "metadata": {},
          "execution_count": 8
        }
      ]
    },
    {
      "cell_type": "code",
      "execution_count": 9,
      "metadata": {
        "id": "srthRV0zKJBg"
      },
      "outputs": [],
      "source": [
        "# replies = [\"I am VIVI\",\n",
        "#            \"my name is VIVI\",\n",
        "#            \"I am good, how about you?\",\n",
        "#            \"Should stay at home based on\",\n",
        "#            \"Step 1: Please print criteria\\nStep 2: The printing contract does not go to NB, then go to the list of the patient list that has been welcomed -> Find the company to see if the company has been welcomed KSK or not?\\n'+ If not, do not report to the KSK -> need to report to the user\\n+ If then, go to the medical record screen to check\",\n",
        "#            \"Should go to hospital based on. To day is a beautiful day ever since before.\\n I am the Strongest vietnamese\"]\n",
        "\n",
        "batch[\"labels\"] = tokenizer(replies, padding='max_length', truncation=True, return_tensors='pt').input_ids"
      ]
    },
    {
      "cell_type": "code",
      "source": [
        "batch[\"labels\"]"
      ],
      "metadata": {
        "colab": {
          "base_uri": "https://localhost:8080/"
        },
        "id": "T6_UcZHdGhtd",
        "outputId": "20e54288-59a1-40a8-c227-e8846990ad11"
      },
      "execution_count": 10,
      "outputs": [
        {
          "output_type": "execute_result",
          "data": {
            "text/plain": [
              "tensor([[5425,  497,   33,  ...,    0,    0,    0],\n",
              "        [ 497,   22,  384,  ...,    0,    0,    0],\n",
              "        [ 497,   22, 7472,  ...,  271, 4641,    2],\n",
              "        ...,\n",
              "        [2392,  281,  360,  ...,    0,    0,    0],\n",
              "        [ 281,  372, 3645,  ...,    0,    0,    0],\n",
              "        [6950,   19,  281,  ...,    0,    0,    0]])"
            ]
          },
          "metadata": {},
          "execution_count": 10
        }
      ]
    },
    {
      "cell_type": "code",
      "execution_count": 11,
      "metadata": {
        "id": "ZCl9qcVxKJBh",
        "colab": {
          "base_uri": "https://localhost:8080/"
        },
        "outputId": "e80fe181-f733-4fd4-bcde-aec4f0b2baf4"
      },
      "outputs": [
        {
          "output_type": "execute_result",
          "data": {
            "text/plain": [
              "Dataset({\n",
              "    features: ['input_ids', 'attention_mask', 'labels'],\n",
              "    num_rows: 83\n",
              "})"
            ]
          },
          "metadata": {},
          "execution_count": 11
        }
      ],
      "source": [
        "from datasets import Dataset\n",
        "\n",
        "ivi_dataset = Dataset.from_dict(batch)\n",
        "ivi_dataset"
      ]
    },
    {
      "cell_type": "code",
      "source": [
        "special_token_dict = tokenizer.special_tokens_map\n",
        "tokenizer.add_special_tokens(special_token_dict)"
      ],
      "metadata": {
        "colab": {
          "base_uri": "https://localhost:8080/"
        },
        "id": "-OInOcIHVvd0",
        "outputId": "0684b197-0a71-4a60-d007-249edf9a912c"
      },
      "execution_count": 12,
      "outputs": [
        {
          "output_type": "execute_result",
          "data": {
            "text/plain": [
              "5"
            ]
          },
          "metadata": {},
          "execution_count": 12
        }
      ]
    },
    {
      "cell_type": "code",
      "source": [
        "model.resize_token_embeddings(len(tokenizer))"
      ],
      "metadata": {
        "colab": {
          "base_uri": "https://localhost:8080/"
        },
        "id": "HUmF8fzxVh97",
        "outputId": "9a035d37-aaa2-4040-aec6-049bafe1be0e"
      },
      "execution_count": 13,
      "outputs": [
        {
          "output_type": "execute_result",
          "data": {
            "text/plain": [
              "Embedding(8009, 1280)"
            ]
          },
          "metadata": {},
          "execution_count": 13
        }
      ]
    },
    {
      "cell_type": "code",
      "source": [
        "# import os\n",
        "# os.environ[\"CUDA_DEVICE_ORDER\"]=\"PCI_BUS_ID\"\n",
        "# os.environ[\"CUDA_VISIBLE_DEVICES\"]=\"0\""
      ],
      "metadata": {
        "id": "EZ-SbIno3R2Q"
      },
      "execution_count": 14,
      "outputs": []
    },
    {
      "cell_type": "code",
      "execution_count": 15,
      "metadata": {
        "id": "kaVPew_9KJBh"
      },
      "outputs": [],
      "source": [
        "from transformers import TrainingArguments, DataCollatorWithPadding\n",
        "\n",
        "training_args = TrainingArguments(\"test-trainer\",\n",
        "                                  num_train_epochs=100,\n",
        "                                  # per_device_train_batch_size=4,\n",
        "                                  # per_device_eval_batch_size=4,\n",
        "                                  # gradient_accumulation_steps=4,\n",
        "\n",
        ")\n",
        "# data_collator = DataCollatorWithPadding(tokenizer=tokenizer)"
      ]
    },
    {
      "cell_type": "code",
      "execution_count": 16,
      "metadata": {
        "id": "bIVhMfTkKJBh"
      },
      "outputs": [],
      "source": [
        "from transformers import Trainer\n",
        "\n",
        "trainer = Trainer(\n",
        "    model,\n",
        "    training_args,\n",
        "    train_dataset=ivi_dataset,\n",
        "    eval_dataset=ivi_dataset,\n",
        "    tokenizer=tokenizer\n",
        ")"
      ]
    },
    {
      "cell_type": "code",
      "source": [
        "len(\"1/ Ask for the get time that the user reports -> Check the implementation time (implementation time) of the service at the medical record screen, press the eye icon to see, see satisfied timeLis Get space yet?\\n(1.1) If not, then report the right time\\n(1.2) If then check the case: Has the service category were set up the connection unit?If set up, then check the implementation room of the service is set out of the hospital = True or False -> True, the default does not display (need to change the settings and the repair impact of the implementation room to eat according to the designnew establishment), FASLE will display the side Lis\\n+ If it is true (1.1), (1.2), then report the ISOFH check\".split(\" \"))"
      ],
      "metadata": {
        "colab": {
          "base_uri": "https://localhost:8080/"
        },
        "id": "7-OA4nrgPzVD",
        "outputId": "12091ec7-a9ec-4207-85d8-9d9cc228e89c"
      },
      "execution_count": 17,
      "outputs": [
        {
          "output_type": "execute_result",
          "data": {
            "text/plain": [
              "123"
            ]
          },
          "metadata": {},
          "execution_count": 17
        }
      ]
    },
    {
      "cell_type": "code",
      "execution_count": 18,
      "metadata": {
        "id": "Z-pJKp3hKJBh",
        "colab": {
          "base_uri": "https://localhost:8080/",
          "height": 228
        },
        "outputId": "d6b65ca7-9750-464f-a0b5-3fd6966b04b2"
      },
      "outputs": [
        {
          "output_type": "stream",
          "name": "stderr",
          "text": [
            "You're using a BlenderbotTokenizerFast tokenizer. Please note that with a fast tokenizer, using the `__call__` method is faster than using a method to encode the text followed by a call to the `pad` method to get a padded encoding.\n"
          ]
        },
        {
          "output_type": "display_data",
          "data": {
            "text/plain": [
              "<IPython.core.display.HTML object>"
            ],
            "text/html": [
              "\n",
              "    <div>\n",
              "      \n",
              "      <progress value='1100' max='1100' style='width:300px; height:20px; vertical-align: middle;'></progress>\n",
              "      [1100/1100 14:55, Epoch 100/100]\n",
              "    </div>\n",
              "    <table border=\"1\" class=\"dataframe\">\n",
              "  <thead>\n",
              " <tr style=\"text-align: left;\">\n",
              "      <th>Step</th>\n",
              "      <th>Training Loss</th>\n",
              "    </tr>\n",
              "  </thead>\n",
              "  <tbody>\n",
              "    <tr>\n",
              "      <td>500</td>\n",
              "      <td>0.451800</td>\n",
              "    </tr>\n",
              "    <tr>\n",
              "      <td>1000</td>\n",
              "      <td>0.001100</td>\n",
              "    </tr>\n",
              "  </tbody>\n",
              "</table><p>"
            ]
          },
          "metadata": {}
        },
        {
          "output_type": "execute_result",
          "data": {
            "text/plain": [
              "TrainOutput(global_step=1100, training_loss=0.20592531173743986, metrics={'train_runtime': 899.8005, 'train_samples_per_second': 9.224, 'train_steps_per_second': 1.222, 'total_flos': 2257969545216000.0, 'train_loss': 0.20592531173743986, 'epoch': 100.0})"
            ]
          },
          "metadata": {},
          "execution_count": 18
        }
      ],
      "source": [
        "trainer.train()"
      ]
    },
    {
      "cell_type": "code",
      "source": [
        "saved_model = \"./saved_model\"\n",
        "\n",
        "tokenizer.save_pretrained(saved_model)\n",
        "model.save_pretrained(saved_model)\n"
      ],
      "metadata": {
        "id": "Z40UP4aXbyQW"
      },
      "execution_count": 19,
      "outputs": []
    },
    {
      "cell_type": "code",
      "source": [
        "!pip install googletrans==4.0.0rc1"
      ],
      "metadata": {
        "colab": {
          "base_uri": "https://localhost:8080/",
          "height": 584
        },
        "id": "4m4J9TMu11Cu",
        "outputId": "3576fc07-fe2e-4cb0-e898-edff5a7533c9"
      },
      "execution_count": 27,
      "outputs": [
        {
          "output_type": "stream",
          "name": "stdout",
          "text": [
            "Collecting googletrans==4.0.0rc1\n",
            "  Downloading googletrans-4.0.0rc1.tar.gz (20 kB)\n",
            "  Preparing metadata (setup.py) ... \u001b[?25l\u001b[?25hdone\n",
            "Requirement already satisfied: httpx==0.13.3 in /usr/local/lib/python3.10/dist-packages (from googletrans==4.0.0rc1) (0.13.3)\n",
            "Requirement already satisfied: certifi in /usr/local/lib/python3.10/dist-packages (from httpx==0.13.3->googletrans==4.0.0rc1) (2023.7.22)\n",
            "Requirement already satisfied: hstspreload in /usr/local/lib/python3.10/dist-packages (from httpx==0.13.3->googletrans==4.0.0rc1) (2023.1.1)\n",
            "Requirement already satisfied: sniffio in /usr/local/lib/python3.10/dist-packages (from httpx==0.13.3->googletrans==4.0.0rc1) (1.3.0)\n",
            "Requirement already satisfied: chardet==3.* in /usr/local/lib/python3.10/dist-packages (from httpx==0.13.3->googletrans==4.0.0rc1) (3.0.4)\n",
            "Requirement already satisfied: idna==2.* in /usr/local/lib/python3.10/dist-packages (from httpx==0.13.3->googletrans==4.0.0rc1) (2.10)\n",
            "Requirement already satisfied: rfc3986<2,>=1.3 in /usr/local/lib/python3.10/dist-packages (from httpx==0.13.3->googletrans==4.0.0rc1) (1.5.0)\n",
            "Requirement already satisfied: httpcore==0.9.* in /usr/local/lib/python3.10/dist-packages (from httpx==0.13.3->googletrans==4.0.0rc1) (0.9.1)\n",
            "Requirement already satisfied: h11<0.10,>=0.8 in /usr/local/lib/python3.10/dist-packages (from httpcore==0.9.*->httpx==0.13.3->googletrans==4.0.0rc1) (0.9.0)\n",
            "Requirement already satisfied: h2==3.* in /usr/local/lib/python3.10/dist-packages (from httpcore==0.9.*->httpx==0.13.3->googletrans==4.0.0rc1) (3.2.0)\n",
            "Requirement already satisfied: hyperframe<6,>=5.2.0 in /usr/local/lib/python3.10/dist-packages (from h2==3.*->httpcore==0.9.*->httpx==0.13.3->googletrans==4.0.0rc1) (5.2.0)\n",
            "Requirement already satisfied: hpack<4,>=3.0 in /usr/local/lib/python3.10/dist-packages (from h2==3.*->httpcore==0.9.*->httpx==0.13.3->googletrans==4.0.0rc1) (3.0.0)\n",
            "Building wheels for collected packages: googletrans\n",
            "  Building wheel for googletrans (setup.py) ... \u001b[?25l\u001b[?25hdone\n",
            "  Created wheel for googletrans: filename=googletrans-4.0.0rc1-py3-none-any.whl size=17396 sha256=41659ed52cb66b06bd05b68d94f64101c9bc672349e7cfb5d9e28367a9cf89c9\n",
            "  Stored in directory: /root/.cache/pip/wheels/c0/59/9f/7372f0cf70160fe61b528532e1a7c8498c4becd6bcffb022de\n",
            "Successfully built googletrans\n",
            "Installing collected packages: googletrans\n",
            "  Attempting uninstall: googletrans\n",
            "    Found existing installation: googletrans 3.0.0\n",
            "    Uninstalling googletrans-3.0.0:\n",
            "      Successfully uninstalled googletrans-3.0.0\n",
            "Successfully installed googletrans-4.0.0rc1\n"
          ]
        },
        {
          "output_type": "display_data",
          "data": {
            "application/vnd.colab-display-data+json": {
              "pip_warning": {
                "packages": [
                  "googletrans"
                ]
              }
            }
          },
          "metadata": {}
        }
      ]
    },
    {
      "cell_type": "code",
      "source": [
        "from googletrans import Translator\n",
        "\n",
        "def vi_to_en(text):\n",
        "  translator = Translator()\n",
        "  translation = translator.translate(text, src='vi', dest='en')\n",
        "  return translation.text\n",
        "\n",
        "def en_to_vi(text):\n",
        "  translator = Translator()\n",
        "  translation = translator.translate(text, src='en', dest='vi')\n",
        "  return translation.text"
      ],
      "metadata": {
        "id": "-4tY1uWI2i0A"
      },
      "execution_count": 3,
      "outputs": []
    },
    {
      "cell_type": "code",
      "source": [
        "vi_to_en(\"TÔi là sơn\")"
      ],
      "metadata": {
        "colab": {
          "base_uri": "https://localhost:8080/",
          "height": 35
        },
        "id": "j3ABHOWt2msA",
        "outputId": "a703287c-9e62-4a49-e09b-cbaab7378794"
      },
      "execution_count": 4,
      "outputs": [
        {
          "output_type": "execute_result",
          "data": {
            "text/plain": [
              "'I am Son'"
            ],
            "application/vnd.google.colaboratory.intrinsic+json": {
              "type": "string"
            }
          },
          "metadata": {},
          "execution_count": 4
        }
      ]
    },
    {
      "cell_type": "code",
      "execution_count": 5,
      "metadata": {
        "id": "-uA9uIjRKJBh",
        "colab": {
          "base_uri": "https://localhost:8080/"
        },
        "outputId": "56bf9eb8-3b5c-40c8-d4e3-fcbfe55eb4da"
      },
      "outputs": [
        {
          "output_type": "execute_result",
          "data": {
            "text/plain": [
              "{'input_ids': tensor([[ 714,  341,  414, 1356,   19, 1345,   79,    2]]), 'attention_mask': tensor([[1, 1, 1, 1, 1, 1, 1, 1]])}"
            ]
          },
          "metadata": {},
          "execution_count": 5
        }
      ],
      "source": [
        "input_text = vi_to_en(\"Bạn tên gì nhỉ\")\n",
        "tokenized_input = tokenizer(input_text, return_tensors='pt')\n",
        "tokenized_input"
      ]
    },
    {
      "cell_type": "code",
      "execution_count": 9,
      "metadata": {
        "id": "2RmNDuEjKJBi"
      },
      "outputs": [],
      "source": [
        "device = \"cpu\"\n",
        "inputs = tokenized_input['input_ids'].to(device)"
      ]
    },
    {
      "cell_type": "code",
      "execution_count": 10,
      "metadata": {
        "id": "QLIFp8shKJBi"
      },
      "outputs": [],
      "source": [
        "tokenized_input = tokenized_input.to(device)"
      ]
    },
    {
      "cell_type": "code",
      "execution_count": 11,
      "metadata": {
        "id": "_sX87snxKJBi",
        "colab": {
          "base_uri": "https://localhost:8080/"
        },
        "outputId": "0c92595f-94c3-4f1b-d4e4-b5b786ba5419"
      },
      "outputs": [
        {
          "output_type": "execute_result",
          "data": {
            "text/plain": [
              "tensor([[   1,  863, 1356,  315,  799,  693,   80,   21,   48,  372,  404,  265,\n",
              "          858, 6789,  287, 1998, 2498,  458,  414,  707, 3757, 4401,  319,  281,\n",
              "         3323,   21,    2]])"
            ]
          },
          "metadata": {},
          "execution_count": 11
        }
      ],
      "source": [
        "outputs = model.generate(**tokenized_input)\n",
        "outputs"
      ]
    },
    {
      "cell_type": "code",
      "execution_count": 12,
      "metadata": {
        "id": "MPzqgh-nKJBi",
        "colab": {
          "base_uri": "https://localhost:8080/",
          "height": 53
        },
        "outputId": "180916b9-c378-4c6b-f125-94edda5ca1df"
      },
      "outputs": [
        {
          "output_type": "execute_result",
          "data": {
            "text/plain": [
              "'<s> Tên tôi là Vivi.i chỉ là một bot được cài đặt để trả lời các câu hỏi về các tài liệu sử dụng của bạn mà tôi đã học. </s>'"
            ],
            "application/vnd.google.colaboratory.intrinsic+json": {
              "type": "string"
            }
          },
          "metadata": {},
          "execution_count": 12
        }
      ],
      "source": [
        "en_to_vi(tokenizer.batch_decode(outputs)[0])"
      ]
    }
  ],
  "metadata": {
    "kernelspec": {
      "display_name": "Python 3",
      "name": "python3"
    },
    "language_info": {
      "codemirror_mode": {
        "name": "ipython",
        "version": 3
      },
      "file_extension": ".py",
      "mimetype": "text/x-python",
      "name": "python",
      "nbconvert_exporter": "python",
      "pygments_lexer": "ipython3",
      "version": "3.8.10"
    },
    "colab": {
      "provenance": [],
      "gpuType": "T4"
    },
    "accelerator": "GPU"
  },
  "nbformat": 4,
  "nbformat_minor": 0
}